{
 "cells": [
  {
   "cell_type": "markdown",
   "metadata": {},
   "source": [
    "# 爬虫基础(二)\n",
    "\n",
    "本课学习目标：\n",
    "\n",
    "- 学会使用request发送post请求。\n",
    "- 使用xpath库对网页进行解析。\n",
    "- 使用cookie来应对反爬虫等限制。"
   ]
  },
  {
   "cell_type": "markdown",
   "metadata": {},
   "source": [
    "## 通过网页解析爬取静态网页\n",
    "\n",
    "首先我们需要了解什么是网络请求？\n",
    "\n"
   ]
  },
  {
   "cell_type": "markdown",
   "metadata": {},
   "source": [
    "## 通过api接口请求数据"
   ]
  }
 ],
 "metadata": {
  "kernelspec": {
   "display_name": "Python 3 (ipykernel)",
   "language": "python",
   "name": "python3"
  },
  "orig_nbformat": 4
 },
 "nbformat": 4,
 "nbformat_minor": 2
}
