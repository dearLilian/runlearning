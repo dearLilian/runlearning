{
 "cells": [
  {
   "cell_type": "code",
   "execution_count": 15,
   "metadata": {},
   "outputs": [],
   "source": [
    "# 示例：基础数据类型和变量操作\n",
    "num = 10\n",
    "pi = 3.14\n",
    "name = \"John\"\n",
    "is_student = True\n"
   ]
  },
  {
   "cell_type": "code",
   "execution_count": 16,
   "metadata": {},
   "outputs": [
    {
     "name": "stdout",
     "output_type": "stream",
     "text": [
      "Hello world!\n"
     ]
    }
   ],
   "source": [
    "print(\"Hello world!\")\n"
   ]
  },
  {
   "cell_type": "code",
   "execution_count": 17,
   "metadata": {},
   "outputs": [
    {
     "name": "stdout",
     "output_type": "stream",
     "text": [
      "Hello World!\n"
     ]
    }
   ],
   "source": [
    "st = 'Hello World!'\n",
    "print(st)"
   ]
  },
  {
   "cell_type": "code",
   "execution_count": 18,
   "metadata": {},
   "outputs": [
    {
     "name": "stdout",
     "output_type": "stream",
     "text": [
      "1 3.2 hello\n"
     ]
    }
   ],
   "source": [
    "a = 1\n",
    "b = 3.2\n",
    "c = \"hello\"\n",
    "print(a, b, c)"
   ]
  },
  {
   "cell_type": "code",
   "execution_count": 19,
   "metadata": {},
   "outputs": [
    {
     "name": "stdout",
     "output_type": "stream",
     "text": [
      "Hello world!  Nice to meet you\n"
     ]
    }
   ],
   "source": [
    "st = 'Hello world!'\n",
    "print(st, ' Nice to meet you')"
   ]
  },
  {
   "cell_type": "code",
   "execution_count": 22,
   "metadata": {},
   "outputs": [
    {
     "name": "stdout",
     "output_type": "stream",
     "text": [
      "Hello, my name is Alice, I am 18 years old\n",
      "Hello, my name is Alice, I am 18 years old\n",
      "Hello, my name is Alice, I am 18 years old\n"
     ]
    }
   ],
   "source": [
    "name = 'Alice'\n",
    "age = 18\n",
    "print('Hello, my name is %s, I am %d years old' % (name, age))\n",
    "print('Hello, my name is {}, I am {} years old'.format(name, age))\n",
    "print(f'Hello, my name is {name}, I am {age} years old')"
   ]
  },
  {
   "cell_type": "code",
   "execution_count": 23,
   "metadata": {},
   "outputs": [
    {
     "name": "stdout",
     "output_type": "stream",
     "text": [
      "Hello, Alice\n",
      "Hello, Bob\n",
      "Hello, Alice\n",
      "Hello, Bob\n"
     ]
    }
   ],
   "source": [
    "# 方法一，各自print\n",
    "a = 'Hello, Alice'\n",
    "b = 'Hello, Bob'\n",
    "print(a)\n",
    "print(b)\n",
    "\n",
    "# 方法二，使用换行符'\\n'连接\n",
    "print(a + '\\n' + b)"
   ]
  },
  {
   "cell_type": "code",
   "execution_count": 24,
   "metadata": {},
   "outputs": [
    {
     "name": "stdout",
     "output_type": "stream",
     "text": [
      "0,1,2,3,4,5,6,7,8,9,0\n",
      "1\n",
      "2\n",
      "3\n",
      "4\n",
      "5\n",
      "6\n",
      "7\n",
      "8\n",
      "9\n"
     ]
    }
   ],
   "source": [
    "for i in range(10):\n",
    "    print(i, end=',')\n",
    "\n",
    "\n",
    "for i in range(10):\n",
    "    print(i)"
   ]
  },
  {
   "cell_type": "code",
   "execution_count": 26,
   "metadata": {},
   "outputs": [
    {
     "name": "stdout",
     "output_type": "stream",
     "text": [
      "30 <class 'int'>\n"
     ]
    }
   ],
   "source": [
    "age = int(input(\"请输入您的年龄：\"))\n",
    "print(age, type(age))"
   ]
  },
  {
   "cell_type": "code",
   "execution_count": 32,
   "metadata": {},
   "outputs": [
    {
     "name": "stdout",
     "output_type": "stream",
     "text": [
      "My weight is 54.2kg\n"
     ]
    }
   ],
   "source": [
    "weight = float(input(\"请输入您的体重（kg）：\"))\n",
    "print(f'My weight is {weight}kg')"
   ]
  },
  {
   "cell_type": "code",
   "execution_count": 30,
   "metadata": {},
   "outputs": [
    {
     "name": "stdout",
     "output_type": "stream",
     "text": [
      "My name is Alice, I am 30 years old\n"
     ]
    }
   ],
   "source": [
    "name = input(\"请输入您的名字：\")\n",
    "age = int(input(\"请输入您的年龄：\"))\n",
    "print(f'My name is {name}, I am {age} years old')"
   ]
  },
  {
   "cell_type": "code",
   "execution_count": 33,
   "metadata": {},
   "outputs": [
    {
     "name": "stdout",
     "output_type": "stream",
     "text": [
      "['1', '2', '3', '4']\n"
     ]
    }
   ],
   "source": [
    "input_str = input(\"请输入多个数值（用空格分隔）：\")\n",
    "values = input_str.split()  # 将输入字符串分割成列表\n",
    "print(values)"
   ]
  },
  {
   "cell_type": "code",
   "execution_count": 36,
   "metadata": {},
   "outputs": [
    {
     "name": "stdout",
     "output_type": "stream",
     "text": [
      "testfdfdfdfd\n"
     ]
    }
   ],
   "source": [
    "text = input(\"请输入多行文本（以EOF结束）：\\n\")\n",
    "print(text)"
   ]
  },
  {
   "cell_type": "code",
   "execution_count": 39,
   "metadata": {},
   "outputs": [
    {
     "name": "stdout",
     "output_type": "stream",
     "text": [
      "2jdjd这是一个无效的年龄。请输入有效的年龄。\n",
      "输入的年龄是34\n"
     ]
    }
   ],
   "source": [
    "while True:\n",
    "    age = input(\"请输入您的年龄：\")\n",
    "    if age.isdigit():\n",
    "        age = int(age)\n",
    "        print(f\"输入的年龄是{age}\")\n",
    "        break\n",
    "    else:\n",
    "        print(f\"{age}这是一个无效的年龄。请输入有效的年龄。\")"
   ]
  },
  {
   "cell_type": "code",
   "execution_count": 42,
   "metadata": {},
   "outputs": [
    {
     "name": "stdout",
     "output_type": "stream",
     "text": [
      "输入的年龄是10\n"
     ]
    }
   ],
   "source": [
    "age_str = input(\"请输入您的年龄：\")\n",
    "try:\n",
    "    age = int(age_str)\n",
    "    print(f\"输入的年龄是{age}\")\n",
    "except ValueError:\n",
    "    print(f\"{age_str}这是一个无效的年龄。请输入有效的年龄。\")"
   ]
  },
  {
   "cell_type": "code",
   "execution_count": 20,
   "metadata": {},
   "outputs": [
    {
     "name": "stdout",
     "output_type": "stream",
     "text": [
      "<class 'int'> <class 'float'> <class 'str'> <class 'bool'> <class 'list'> <class 'dict'> <class 'tuple'>\n"
     ]
    }
   ],
   "source": [
    "# type函数\n",
    "\n",
    "a = 1\n",
    "b = 1.9\n",
    "c = 'hello'\n",
    "d = True\n",
    "e = [1, 2, 3]\n",
    "f = {'a': 100, 'b': 90, 'c': 80}\n",
    "g = ('Alice', 19, 'Female', False)\n",
    "print(type(a), type(b), type(c), type(d), type(e), type(f), type(g))"
   ]
  },
  {
   "cell_type": "code",
   "execution_count": 21,
   "metadata": {},
   "outputs": [
    {
     "ename": "TypeError",
     "evalue": "pop expected at least 1 argument, got 0",
     "output_type": "error",
     "traceback": [
      "\u001b[0;31m---------------------------------------------------------------------------\u001b[0m",
      "\u001b[0;31mTypeError\u001b[0m                                 Traceback (most recent call last)",
      "\u001b[1;32m/Users/lilianli/Documents/GitHub/runlearning/PainterPython/1_正式课/08.2_python基础期中复习/08_2_python_practice_code.ipynb 单元格 7\u001b[0m line \u001b[0;36m2\n\u001b[1;32m      <a href='vscode-notebook-cell:/Users/lilianli/Documents/GitHub/runlearning/PainterPython/1_%E6%AD%A3%E5%BC%8F%E8%AF%BE/08.2_python%E5%9F%BA%E7%A1%80%E6%9C%9F%E4%B8%AD%E5%A4%8D%E4%B9%A0/08_2_python_practice_code.ipynb#W2sZmlsZQ%3D%3D?line=0'>1</a>\u001b[0m dicts \u001b[39m=\u001b[39m {\u001b[39m'\u001b[39m\u001b[39ma\u001b[39m\u001b[39m'\u001b[39m: \u001b[39m1\u001b[39m, \u001b[39m'\u001b[39m\u001b[39mb\u001b[39m\u001b[39m'\u001b[39m: \u001b[39m2\u001b[39m, \u001b[39m'\u001b[39m\u001b[39mc\u001b[39m\u001b[39m'\u001b[39m: \u001b[39m3\u001b[39m}\n\u001b[0;32m----> <a href='vscode-notebook-cell:/Users/lilianli/Documents/GitHub/runlearning/PainterPython/1_%E6%AD%A3%E5%BC%8F%E8%AF%BE/08.2_python%E5%9F%BA%E7%A1%80%E6%9C%9F%E4%B8%AD%E5%A4%8D%E4%B9%A0/08_2_python_practice_code.ipynb#W2sZmlsZQ%3D%3D?line=1'>2</a>\u001b[0m \u001b[39mprint\u001b[39m(dicts\u001b[39m.\u001b[39;49mpop())\n",
      "\u001b[0;31mTypeError\u001b[0m: pop expected at least 1 argument, got 0"
     ]
    }
   ],
   "source": [
    "dicts = {'a': 1, 'b': 2, 'c': 3}\n",
    "print(dicts.pop())"
   ]
  }
 ],
 "metadata": {
  "kernelspec": {
   "display_name": "painterPy",
   "language": "python",
   "name": "python3"
  },
  "language_info": {
   "codemirror_mode": {
    "name": "ipython",
    "version": 3
   },
   "file_extension": ".py",
   "mimetype": "text/x-python",
   "name": "python",
   "nbconvert_exporter": "python",
   "pygments_lexer": "ipython3",
   "version": "3.9.17"
  },
  "orig_nbformat": 4
 },
 "nbformat": 4,
 "nbformat_minor": 2
}
