{
 "cells": [
  {
   "cell_type": "code",
   "execution_count": 1,
   "metadata": {},
   "outputs": [],
   "source": [
    "# 示例：基础数据类型和变量操作\n",
    "num = 10\n",
    "pi = 3.14\n",
    "name = \"John\"\n",
    "is_student = True\n"
   ]
  },
  {
   "cell_type": "code",
   "execution_count": 2,
   "metadata": {},
   "outputs": [
    {
     "name": "stdout",
     "output_type": "stream",
     "text": [
      "<class 'int'> <class 'float'> <class 'str'> <class 'bool'> <class 'list'> <class 'dict'> <class 'tuple'>\n"
     ]
    }
   ],
   "source": [
    "# type函数\n",
    "\n",
    "a = 1\n",
    "b = 1.9\n",
    "c = 'hello'\n",
    "d = True\n",
    "e = [1, 2, 3]\n",
    "f = {'a': 100, 'b': 90, 'c': 80}\n",
    "g = ('Alice', 19, 'Female', False)\n",
    "print(type(a), type(b), type(c), type(d), type(e), type(f), type(g))"
   ]
  },
  {
   "cell_type": "code",
   "execution_count": 3,
   "metadata": {},
   "outputs": [
    {
     "ename": "TypeError",
     "evalue": "pop expected at least 1 argument, got 0",
     "output_type": "error",
     "traceback": [
      "\u001b[0;31m---------------------------------------------------------------------------\u001b[0m",
      "\u001b[0;31mTypeError\u001b[0m                                 Traceback (most recent call last)",
      "\u001b[1;32m/Users/lilianli/Documents/GitHub/runlearning/PainterPython/1_正式课/08.2_python基础期中复习/08_2_python_practice_code.ipynb 单元格 3\u001b[0m line \u001b[0;36m2\n\u001b[1;32m      <a href='vscode-notebook-cell:/Users/lilianli/Documents/GitHub/runlearning/PainterPython/1_%E6%AD%A3%E5%BC%8F%E8%AF%BE/08.2_python%E5%9F%BA%E7%A1%80%E6%9C%9F%E4%B8%AD%E5%A4%8D%E4%B9%A0/08_2_python_practice_code.ipynb#W2sZmlsZQ%3D%3D?line=0'>1</a>\u001b[0m dicts \u001b[39m=\u001b[39m {\u001b[39m'\u001b[39m\u001b[39ma\u001b[39m\u001b[39m'\u001b[39m: \u001b[39m1\u001b[39m, \u001b[39m'\u001b[39m\u001b[39mb\u001b[39m\u001b[39m'\u001b[39m: \u001b[39m2\u001b[39m, \u001b[39m'\u001b[39m\u001b[39mc\u001b[39m\u001b[39m'\u001b[39m: \u001b[39m3\u001b[39m}\n\u001b[0;32m----> <a href='vscode-notebook-cell:/Users/lilianli/Documents/GitHub/runlearning/PainterPython/1_%E6%AD%A3%E5%BC%8F%E8%AF%BE/08.2_python%E5%9F%BA%E7%A1%80%E6%9C%9F%E4%B8%AD%E5%A4%8D%E4%B9%A0/08_2_python_practice_code.ipynb#W2sZmlsZQ%3D%3D?line=1'>2</a>\u001b[0m \u001b[39mprint\u001b[39m(dicts\u001b[39m.\u001b[39;49mpop())\n",
      "\u001b[0;31mTypeError\u001b[0m: pop expected at least 1 argument, got 0"
     ]
    }
   ],
   "source": [
    "dicts = {'a': 1, 'b': 2, 'c': 3}\n",
    "print(dicts.pop())"
   ]
  },
  {
   "cell_type": "code",
   "execution_count": 5,
   "metadata": {},
   "outputs": [
    {
     "name": "stdout",
     "output_type": "stream",
     "text": [
      "Hello, my name is Alice, I am 18 years old\n",
      "Hello, my name is Alice, I am 18 years old\n",
      "Hello, my name is Alice, I am 18 years old\n"
     ]
    }
   ],
   "source": [
    "name = 'Alice'\n",
    "age = 18\n",
    "print('Hello, my name is %s, I am %d years old' % (name, age))\n",
    "print('Hello, my name is {}, I am {} years old'.format(name, age))\n",
    "print(f'Hello, my name is {name}, I am {age} years old')"
   ]
  },
  {
   "cell_type": "code",
   "execution_count": 7,
   "metadata": {},
   "outputs": [
    {
     "name": "stdout",
     "output_type": "stream",
     "text": [
      "Hello, Alice\n",
      "Hello, Bob\n",
      "Hello, Alice\n",
      "Hello, Bob\n"
     ]
    }
   ],
   "source": [
    "# 方法一，各自print\n",
    "a = 'Hello, Alice'\n",
    "b = 'Hello, Bob'\n",
    "print(a)\n",
    "print(b)\n",
    "\n",
    "# 方法二，使用换行符'\\n'连接\n",
    "print(a + '\\n' + b)"
   ]
  },
  {
   "cell_type": "code",
   "execution_count": 8,
   "metadata": {},
   "outputs": [
    {
     "name": "stdout",
     "output_type": "stream",
     "text": [
      "0,1,2,3,4,5,6,7,8,9,"
     ]
    }
   ],
   "source": [
    "for i in range(10):\n",
    "    print(i, end=',')\n",
    "\n",
    "\n",
    "for i in range(10):\n",
    "    print(i)"
   ]
  }
 ],
 "metadata": {
  "kernelspec": {
   "display_name": "painterPy",
   "language": "python",
   "name": "python3"
  },
  "language_info": {
   "codemirror_mode": {
    "name": "ipython",
    "version": 3
   },
   "file_extension": ".py",
   "mimetype": "text/x-python",
   "name": "python",
   "nbconvert_exporter": "python",
   "pygments_lexer": "ipython3",
   "version": "3.9.17"
  },
  "orig_nbformat": 4
 },
 "nbformat": 4,
 "nbformat_minor": 2
}
